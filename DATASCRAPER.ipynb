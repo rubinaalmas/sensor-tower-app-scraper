{
 "cells": [
  {
   "cell_type": "code",
   "execution_count": 3,
   "id": "7b350c78",
   "metadata": {},
   "outputs": [
    {
     "name": "stdout",
     "output_type": "stream",
     "text": [
      "Requirement already satisfied: playwright in /opt/anaconda3/lib/python3.10/site-packages (1.52.0)\n",
      "Requirement already satisfied: pyee<14,>=13 in /opt/anaconda3/lib/python3.10/site-packages (from playwright) (13.0.0)\n",
      "Requirement already satisfied: greenlet<4.0.0,>=3.1.1 in /opt/anaconda3/lib/python3.10/site-packages (from playwright) (3.2.3)\n",
      "Requirement already satisfied: typing-extensions in /opt/anaconda3/lib/python3.10/site-packages (from pyee<14,>=13->playwright) (4.11.0)\n"
     ]
    }
   ],
   "source": [
    "! pip install playwright\n",
    "! playwright install"
   ]
  },
  {
   "cell_type": "code",
   "execution_count": null,
   "id": "52176c75",
   "metadata": {},
   "outputs": [],
   "source": [
    "import playwright\n",
    "import pandas as pd\n",
    "import nest_asyncio\n",
    "import asyncio\n",
    "import time\n",
    "import random\n",
    "from playwright.async_api import async_playwright "
   ]
  },
  {
   "cell_type": "code",
   "execution_count": 18,
   "id": "9b0d5c02",
   "metadata": {},
   "outputs": [],
   "source": [
    "csv_path = \"/Users/rubinaalmas/Downloads/unique_app_ids_clean.csv\"\n",
    "num_rows = 10  "
   ]
  },
  {
   "cell_type": "code",
   "execution_count": 19,
   "id": "2bf2502a",
   "metadata": {},
   "outputs": [],
   "source": [
    "df = pd.read_csv(csv_path)\n",
    "df= df.head(num_rows)\n",
    "df[\"Publisher Country\"] = \"\""
   ]
  },
  {
   "cell_type": "code",
   "execution_count": null,
   "id": "c531e0d0",
   "metadata": {},
   "outputs": [
    {
     "name": "stdout",
     "output_type": "stream",
     "text": [
      "Log in required, after logging in press enter here\n",
      " Fetching: https://app.sensortower.com/overview/335709058?country=US\n",
      " Fetching: https://app.sensortower.com/overview/1536762482?country=US\n",
      "error for an app 1536762482 : Page.wait_for_selector: Timeout 10000ms exceeded.\n",
      "Call log:\n",
      "  - waiting for locator(\"div:has-text('Publisher Country')\") to be visible\n",
      " \n",
      " Fetching: https://app.sensortower.com/overview/1568551599?country=US\n",
      "error for an app 1568551599 : Page.wait_for_selector: Timeout 10000ms exceeded.\n",
      "Call log:\n",
      "  - waiting for locator(\"div:has-text('Publisher Country')\") to be visible\n",
      " \n",
      " Fetching: https://app.sensortower.com/overview/1234214894?country=US\n",
      " Fetching: https://app.sensortower.com/overview/432791399?country=US\n",
      "error for an app 432791399 : Page.wait_for_selector: Timeout 10000ms exceeded.\n",
      "Call log:\n",
      "  - waiting for locator(\"div:has-text('Publisher Country')\") to be visible\n",
      " \n",
      " Fetching: https://app.sensortower.com/overview/483241160?country=US\n",
      " Fetching: https://app.sensortower.com/overview/295775656?country=US\n",
      " Fetching: https://app.sensortower.com/overview/1115022026?country=US\n",
      " Fetching: https://app.sensortower.com/overview/1365164709?country=US\n",
      " Fetching: https://app.sensortower.com/overview/380859409?country=US\n",
      "Task Done\n"
     ]
    }
   ],
   "source": [
    "async def get_publisher_country(playwright):\n",
    "    browser = await playwright.chromium.launch(headless = False)\n",
    "    context = await browser.new_context()\n",
    "    page = await context.new_page()\n",
    "\n",
    "    #to login manually\n",
    "\n",
    "    await page.goto(\"https://app.sensortower.com/\")\n",
    "\n",
    "    print(\"Log in required, after logging in press enter here\")\n",
    "    input()\n",
    "\n",
    "    for i, row in df.iterrows():\n",
    "        app_id = row[\"appId\"]\n",
    "        app_url = f\"https://app.sensortower.com/overview/{app_id}?country=US\"\n",
    "        print(f\" Fetching: {app_url}\")\n",
    "\n",
    "\n",
    "\n",
    "\n",
    "        try:\n",
    "            await page.goto(app_url, timeout=15000)\n",
    "            await page.wait_for_selector(\"div:has-text('Publisher Country')\", timeout=10000)\n",
    "\n",
    "            country_element = await page.query_selector(\"text=Publisher Country\")\n",
    "            if country_element:\n",
    "                country_value = await country_element.evaluate(\"el => el.nextElementSibling?.textContent || ''\")\n",
    "                country_value = country_value.strip()\n",
    "\n",
    "                if country_value: \n",
    "                    df.at[i, \"Publisher Country\"] = country_value\n",
    "                else:\n",
    "                    df.at[i, \"Publisher Country\"] = \"N/A\"\n",
    "\n",
    "        except Exception as e:\n",
    "            print(f\"error for an app {app_id} : {e} \")\n",
    "            df.at[i, \"Publisher Country\"] = \"Error\"\n",
    "\n",
    "\n",
    "        #random delay between fetches\n",
    "        await asyncio.sleep(random.uniform(1.5, 3.5))\n",
    "\n",
    "        # every 100 rows & save\n",
    "        if (i + 1) % 100 == 0:\n",
    "            print(f\"Saving at row {i + 1}, taking short break...\")\n",
    "            df.to_csv(csv_path, index=False)\n",
    "            time.sleep(15)\n",
    "\n",
    "\n",
    "    await browser.close()\n",
    "\n",
    "\n",
    "nest_asyncio.apply()\n",
    "async def main():\n",
    "    async with async_playwright() as playwright:\n",
    "        await get_publisher_country(playwright)\n",
    "\n",
    "await main()\n",
    "\n",
    "df.to_csv(csv_path, index= False)\n",
    "print(\"Task Done\")\n",
    "\n",
    "\n",
    "\n"
   ]
  },
  {
   "cell_type": "code",
   "execution_count": null,
   "id": "3a8b7458",
   "metadata": {},
   "outputs": [],
   "source": []
  }
 ],
 "metadata": {
  "kernelspec": {
   "display_name": "Python 3",
   "language": "python",
   "name": "python3"
  },
  "language_info": {
   "codemirror_mode": {
    "name": "ipython",
    "version": 3
   },
   "file_extension": ".py",
   "mimetype": "text/x-python",
   "name": "python",
   "nbconvert_exporter": "python",
   "pygments_lexer": "ipython3",
   "version": "3.12.6"
  }
 },
 "nbformat": 4,
 "nbformat_minor": 5
}
